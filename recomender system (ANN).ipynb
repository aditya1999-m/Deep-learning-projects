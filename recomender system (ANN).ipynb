{
 "cells": [
  {
   "cell_type": "code",
   "execution_count": 1,
   "metadata": {},
   "outputs": [],
   "source": [
    "import tensorflow as tf\n",
    "import numpy as np\n",
    "import pandas as pd\n",
    "import matplotlib.pyplot as plt"
   ]
  },
  {
   "cell_type": "code",
   "execution_count": 22,
   "metadata": {},
   "outputs": [],
   "source": [
    "from tensorflow.keras.layers import Input,Dense,Embedding,Flatten,Concatenate\n",
    "from tensorflow.keras.optimizers import SGD\n",
    "from sklearn.utils import shuffle"
   ]
  },
  {
   "cell_type": "code",
   "execution_count": 7,
   "metadata": {},
   "outputs": [],
   "source": [
    "c_names=['userid','movieid','rating','time']"
   ]
  },
  {
   "cell_type": "code",
   "execution_count": 8,
   "metadata": {},
   "outputs": [],
   "source": [
    "df=pd.read_csv('u.data',names=c_names,sep='\\t')"
   ]
  },
  {
   "cell_type": "code",
   "execution_count": 9,
   "metadata": {},
   "outputs": [
    {
     "data": {
      "text/html": [
       "<div>\n",
       "<style scoped>\n",
       "    .dataframe tbody tr th:only-of-type {\n",
       "        vertical-align: middle;\n",
       "    }\n",
       "\n",
       "    .dataframe tbody tr th {\n",
       "        vertical-align: top;\n",
       "    }\n",
       "\n",
       "    .dataframe thead th {\n",
       "        text-align: right;\n",
       "    }\n",
       "</style>\n",
       "<table border=\"1\" class=\"dataframe\">\n",
       "  <thead>\n",
       "    <tr style=\"text-align: right;\">\n",
       "      <th></th>\n",
       "      <th>userid</th>\n",
       "      <th>movieid</th>\n",
       "      <th>rating</th>\n",
       "      <th>time</th>\n",
       "    </tr>\n",
       "  </thead>\n",
       "  <tbody>\n",
       "    <tr>\n",
       "      <th>0</th>\n",
       "      <td>196</td>\n",
       "      <td>242</td>\n",
       "      <td>3</td>\n",
       "      <td>881250949</td>\n",
       "    </tr>\n",
       "    <tr>\n",
       "      <th>1</th>\n",
       "      <td>186</td>\n",
       "      <td>302</td>\n",
       "      <td>3</td>\n",
       "      <td>891717742</td>\n",
       "    </tr>\n",
       "    <tr>\n",
       "      <th>2</th>\n",
       "      <td>22</td>\n",
       "      <td>377</td>\n",
       "      <td>1</td>\n",
       "      <td>878887116</td>\n",
       "    </tr>\n",
       "    <tr>\n",
       "      <th>3</th>\n",
       "      <td>244</td>\n",
       "      <td>51</td>\n",
       "      <td>2</td>\n",
       "      <td>880606923</td>\n",
       "    </tr>\n",
       "    <tr>\n",
       "      <th>4</th>\n",
       "      <td>166</td>\n",
       "      <td>346</td>\n",
       "      <td>1</td>\n",
       "      <td>886397596</td>\n",
       "    </tr>\n",
       "  </tbody>\n",
       "</table>\n",
       "</div>"
      ],
      "text/plain": [
       "   userid  movieid  rating       time\n",
       "0     196      242       3  881250949\n",
       "1     186      302       3  891717742\n",
       "2      22      377       1  878887116\n",
       "3     244       51       2  880606923\n",
       "4     166      346       1  886397596"
      ]
     },
     "execution_count": 9,
     "metadata": {},
     "output_type": "execute_result"
    }
   ],
   "source": [
    "df.head()"
   ]
  },
  {
   "cell_type": "code",
   "execution_count": 13,
   "metadata": {},
   "outputs": [],
   "source": [
    "df.userid=pd.Categorical(df.userid)\n",
    "df['new_user_id'] = df.userid.cat.codes"
   ]
  },
  {
   "cell_type": "code",
   "execution_count": 15,
   "metadata": {},
   "outputs": [],
   "source": [
    "df.movieid=pd.Categorical(df.movieid)\n",
    "df['new_movie_id'] = df.movieid.cat.codes"
   ]
  },
  {
   "cell_type": "code",
   "execution_count": 16,
   "metadata": {},
   "outputs": [
    {
     "data": {
      "text/html": [
       "<div>\n",
       "<style scoped>\n",
       "    .dataframe tbody tr th:only-of-type {\n",
       "        vertical-align: middle;\n",
       "    }\n",
       "\n",
       "    .dataframe tbody tr th {\n",
       "        vertical-align: top;\n",
       "    }\n",
       "\n",
       "    .dataframe thead th {\n",
       "        text-align: right;\n",
       "    }\n",
       "</style>\n",
       "<table border=\"1\" class=\"dataframe\">\n",
       "  <thead>\n",
       "    <tr style=\"text-align: right;\">\n",
       "      <th></th>\n",
       "      <th>userid</th>\n",
       "      <th>movieid</th>\n",
       "      <th>rating</th>\n",
       "      <th>time</th>\n",
       "      <th>new_user_id</th>\n",
       "      <th>new_movie_id</th>\n",
       "    </tr>\n",
       "  </thead>\n",
       "  <tbody>\n",
       "    <tr>\n",
       "      <th>0</th>\n",
       "      <td>196</td>\n",
       "      <td>242</td>\n",
       "      <td>3</td>\n",
       "      <td>881250949</td>\n",
       "      <td>195</td>\n",
       "      <td>241</td>\n",
       "    </tr>\n",
       "    <tr>\n",
       "      <th>1</th>\n",
       "      <td>186</td>\n",
       "      <td>302</td>\n",
       "      <td>3</td>\n",
       "      <td>891717742</td>\n",
       "      <td>185</td>\n",
       "      <td>301</td>\n",
       "    </tr>\n",
       "    <tr>\n",
       "      <th>2</th>\n",
       "      <td>22</td>\n",
       "      <td>377</td>\n",
       "      <td>1</td>\n",
       "      <td>878887116</td>\n",
       "      <td>21</td>\n",
       "      <td>376</td>\n",
       "    </tr>\n",
       "    <tr>\n",
       "      <th>3</th>\n",
       "      <td>244</td>\n",
       "      <td>51</td>\n",
       "      <td>2</td>\n",
       "      <td>880606923</td>\n",
       "      <td>243</td>\n",
       "      <td>50</td>\n",
       "    </tr>\n",
       "    <tr>\n",
       "      <th>4</th>\n",
       "      <td>166</td>\n",
       "      <td>346</td>\n",
       "      <td>1</td>\n",
       "      <td>886397596</td>\n",
       "      <td>165</td>\n",
       "      <td>345</td>\n",
       "    </tr>\n",
       "  </tbody>\n",
       "</table>\n",
       "</div>"
      ],
      "text/plain": [
       "  userid movieid  rating       time  new_user_id  new_movie_id\n",
       "0    196     242       3  881250949          195           241\n",
       "1    186     302       3  891717742          185           301\n",
       "2     22     377       1  878887116           21           376\n",
       "3    244      51       2  880606923          243            50\n",
       "4    166     346       1  886397596          165           345"
      ]
     },
     "execution_count": 16,
     "metadata": {},
     "output_type": "execute_result"
    }
   ],
   "source": [
    "df.head()"
   ]
  },
  {
   "cell_type": "code",
   "execution_count": 18,
   "metadata": {},
   "outputs": [],
   "source": [
    "user_id=df['new_user_id'].values\n",
    "movie_id=df['new_movie_id'].values\n",
    "rating=df['rating'].values"
   ]
  },
  {
   "cell_type": "code",
   "execution_count": 21,
   "metadata": {},
   "outputs": [],
   "source": [
    "N=len(set(user_id))\n",
    "M=len(set(movie_id))\n",
    "k=10"
   ]
  },
  {
   "cell_type": "code",
   "execution_count": 20,
   "metadata": {},
   "outputs": [],
   "source": [
    "#model"
   ]
  },
  {
   "cell_type": "code",
   "execution_count": 24,
   "metadata": {},
   "outputs": [],
   "source": [
    "u=Input(shape=(1,))\n",
    "m=Input(shape=(1,))\n",
    "uemb=Embedding(N,k)(u)# op is num_samples,1,k\n",
    "memb=Embedding(M,k)(m)# ^ same \n",
    "\n",
    "uemb = Flatten()(uemb) # now it's (num_samples, K)\n",
    "memb = Flatten()(memb) # now it's (num_samples, K)\n",
    "\n",
    "x=Concatenate()([uemb,memb])\n",
    "\n",
    "x = Dense(400, activation='relu')(x)\n",
    "x = Dense(400, activation='relu')(x)\n",
    "x = Dense(400, activation='relu')(x)\n",
    "x=Dense(1)(x)"
   ]
  },
  {
   "cell_type": "code",
   "execution_count": 25,
   "metadata": {},
   "outputs": [],
   "source": [
    "from tensorflow.keras.models import Model"
   ]
  },
  {
   "cell_type": "code",
   "execution_count": 26,
   "metadata": {},
   "outputs": [],
   "source": [
    "model=Model(inputs=[u,m],outputs=x)"
   ]
  },
  {
   "cell_type": "code",
   "execution_count": 27,
   "metadata": {},
   "outputs": [],
   "source": [
    "model.compile(loss='mse',optimizer=SGD(lr=0.08,momentum=0.9))"
   ]
  },
  {
   "cell_type": "code",
   "execution_count": 32,
   "metadata": {},
   "outputs": [],
   "source": [
    "user_id, movie_id, rating = shuffle(user_id, movie_id, rating)\n",
    "Ntrain = int(0.8 * len(rating))\n",
    "train_user = user_id[:Ntrain]\n",
    "train_movie = movie_id[:Ntrain]\n",
    "train_rating = rating[:Ntrain]\n",
    "\n",
    "test_user = user_id[Ntrain:]\n",
    "test_movie = movie_id[Ntrain:]\n",
    "test_rating = rating[Ntrain:]\n",
    "\n",
    "# center the ratings\n",
    "avg_rating = train_rating.mean()\n",
    "train_rating = train_rating - avg_rating\n",
    "test_rating = test_rating - avg_rating"
   ]
  },
  {
   "cell_type": "code",
   "execution_count": 33,
   "metadata": {},
   "outputs": [
    {
     "name": "stdout",
     "output_type": "stream",
     "text": [
      "Epoch 1/25\n",
      "79/79 - 3s - loss: 1.2283 - val_loss: 1.0044\n",
      "Epoch 2/25\n",
      "79/79 - 2s - loss: 0.9739 - val_loss: 0.9012\n",
      "Epoch 3/25\n",
      "79/79 - 2s - loss: 0.8925 - val_loss: 0.8902\n",
      "Epoch 4/25\n",
      "79/79 - 2s - loss: 0.8826 - val_loss: 0.8802\n",
      "Epoch 5/25\n",
      "79/79 - 2s - loss: 0.8636 - val_loss: 0.8754\n",
      "Epoch 6/25\n",
      "79/79 - 2s - loss: 0.8525 - val_loss: 0.8609\n",
      "Epoch 7/25\n",
      "79/79 - 2s - loss: 0.8466 - val_loss: 0.8576\n",
      "Epoch 8/25\n",
      "79/79 - 2s - loss: 0.8369 - val_loss: 0.8559\n",
      "Epoch 9/25\n",
      "79/79 - 2s - loss: 0.8294 - val_loss: 0.8516\n",
      "Epoch 10/25\n",
      "79/79 - 2s - loss: 0.8321 - val_loss: 0.8745\n",
      "Epoch 11/25\n",
      "79/79 - 2s - loss: 0.8243 - val_loss: 0.8582\n",
      "Epoch 12/25\n",
      "79/79 - 2s - loss: 0.8197 - val_loss: 0.8477\n",
      "Epoch 13/25\n",
      "79/79 - 2s - loss: 0.8140 - val_loss: 0.8636\n",
      "Epoch 14/25\n",
      "79/79 - 2s - loss: 0.8127 - val_loss: 0.8638\n",
      "Epoch 15/25\n",
      "79/79 - 2s - loss: 0.8069 - val_loss: 0.8582\n",
      "Epoch 16/25\n",
      "79/79 - 2s - loss: 0.8047 - val_loss: 0.8498\n",
      "Epoch 17/25\n",
      "79/79 - 2s - loss: 0.7997 - val_loss: 0.8529\n",
      "Epoch 18/25\n",
      "79/79 - 2s - loss: 0.7986 - val_loss: 0.8609\n",
      "Epoch 19/25\n",
      "79/79 - 2s - loss: 0.7903 - val_loss: 0.8474\n",
      "Epoch 20/25\n",
      "79/79 - 3s - loss: 0.7856 - val_loss: 0.8499\n",
      "Epoch 21/25\n",
      "79/79 - 2s - loss: 0.7827 - val_loss: 0.8472\n",
      "Epoch 22/25\n",
      "79/79 - 2s - loss: 0.7810 - val_loss: 0.8402\n",
      "Epoch 23/25\n",
      "79/79 - 2s - loss: 0.7753 - val_loss: 0.8749\n",
      "Epoch 24/25\n",
      "79/79 - 2s - loss: 0.7685 - val_loss: 0.8912\n",
      "Epoch 25/25\n",
      "79/79 - 2s - loss: 0.7651 - val_loss: 0.8514\n"
     ]
    }
   ],
   "source": [
    "r = model.fit(\n",
    "  x=[train_user, train_movie],\n",
    "  y=train_rating,\n",
    "  epochs=25,\n",
    "  batch_size=1024,\n",
    "  verbose=2, # goes a little faster when you don't print the progress bar\n",
    "  validation_data=([test_user, test_movie], test_rating),\n",
    ")"
   ]
  },
  {
   "cell_type": "code",
   "execution_count": null,
   "metadata": {},
   "outputs": [],
   "source": []
  }
 ],
 "metadata": {
  "kernelspec": {
   "display_name": "Python 3",
   "language": "python",
   "name": "python3"
  },
  "language_info": {
   "codemirror_mode": {
    "name": "ipython",
    "version": 3
   },
   "file_extension": ".py",
   "mimetype": "text/x-python",
   "name": "python",
   "nbconvert_exporter": "python",
   "pygments_lexer": "ipython3",
   "version": "3.7.6"
  }
 },
 "nbformat": 4,
 "nbformat_minor": 4
}
